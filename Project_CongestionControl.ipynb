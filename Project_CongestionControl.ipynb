{
 "cells": [
  {
   "cell_type": "markdown",
   "id": "bd77d5ac-b114-41fd-a58d-a736a16a2019",
   "metadata": {
    "tags": []
   },
   "source": [
    "# Proiect Congestion Control\n",
    "\n",
    "Se cere implementarea unui algorim de congestion control care sa maximizeze rata de transmisie (throughput), fairness-ul si sa minimizeze latenta.  Puteti dezvolta propriul vostru algoritm (chiar si cu ML),\n",
    "sau puteti implementa unul dintre algoritmii existenti precum [TCP Cubic](https://www.cs.princeton.edu/courses/archive/fall16/cos561/papers/Cubic08.pdf), Tahoe, etc. Fiecare echipa trebuie sa selecteze un algoritm de congestion control pe care doreste sa il implementeze. Puteti alege orice algoritm doriti sa implementati; o lista de algoritmi o puteti gasit aici: https://en.wikipedia.org/wiki/TCP_congestion_control. Va sugeram insa sa alegeti un algoritm care se poate implementa doar la endhosts, si nu necesita sprijin aditional in retea (de exemplu ECN marking). O lista posibila de astfel de algoritmi, impreuna cu descrierea lor detaliata, este urmatoarea. Va recomandam sa parcurgeti articolul stintific aferent algoritmului inainte de a va apuca de implementare. Va recomandam Google Scholar pentru a il gasi. De asemenea, va puteti consulta la curs cu Costin.\n",
    "\n",
    "Implementarea o vom face in simulatorul HTsim. Vom lucra in fisierul `cc.cpp`, unde gasim o implementare de cod de sender/receiver. In mare vom lucra in functile `onACK()` si `onLoss()`. Topologia este de tip dumbell, unde avem mai multi hosti care transmit date peste acelasi link care ajunge sa fie un bottleneck catre un sink (receiver).\n",
    "\n",
    "> Vom considera MSS = 1500 bytes\n",
    "\n",
    "**Lectura recomandata:**\n",
    "\n",
    "  - [Network Congestion - pana la 17 (20 min)](https://www.youtube.com/watch?v=4-KPHk-dZ1M&list=PLAwxTw4SYaPlEHG2kkN5Kl1eKHeZuJDG-&index=3)\n",
    "  - [Congestion control](https://beta.computer-networking.info/syllabus/default/protocols/congestion.html)\n",
    "\n"
   ]
  },
  {
   "cell_type": "markdown",
   "id": "e7d55043-9cc1-4d34-894a-11ec9f147e32",
   "metadata": {
    "tags": []
   },
   "source": [
    "### Inainte de a rula simulatorul\n",
    "\n",
    "Vom folosi matplotlib pentru a realiza graficele. Rezultatele rularii simulatorului se vor gasi in directorul `tmp`."
   ]
  },
  {
   "cell_type": "code",
   "execution_count": null,
   "id": "2b0bf690-edb6-4a5e-8678-f29262a97e09",
   "metadata": {
    "tags": []
   },
   "outputs": [],
   "source": [
    "pip install matplotlib"
   ]
  },
  {
   "cell_type": "code",
   "execution_count": null,
   "id": "d67010a9-8746-4c0f-b3ab-ee80e2770ee9",
   "metadata": {
    "tags": []
   },
   "outputs": [],
   "source": [
    "# Note: comenzile prefixate cu ! sunt rulate in Bash, nu in Python!\n",
    "!mkdir -p tmp/t"
   ]
  },
  {
   "cell_type": "code",
   "execution_count": null,
   "id": "9c76316b-4366-4135-9972-e15e95e097ae",
   "metadata": {
    "tags": []
   },
   "outputs": [],
   "source": [
    "# O sa intalnim des apelul functiei format pe un string. Aceasta este similara cu %s sau %d in printf.\n",
    "\n",
    "string = \"ceva{}\".format(4)\n",
    "print(string)"
   ]
  },
  {
   "cell_type": "markdown",
   "id": "52d64a19-5af2-4f63-afdf-013e178c566c",
   "metadata": {
    "tags": []
   },
   "source": [
    "### Cod pentru desenarea graficelor"
   ]
  },
  {
   "cell_type": "code",
   "execution_count": null,
   "id": "cc08d834-19cd-41cf-82f4-b25cfb36ceea",
   "metadata": {
    "tags": []
   },
   "outputs": [],
   "source": [
    "import matplotlib.pyplot as plt\n",
    "\n",
    "# Fiecare fisier .dat dim tmp contine date despre o conexiune. Acestea au urmatorul format:\n",
    "# 0.100000000 Type CC_SINK ID 0 Ev RATE CAck 3643500 CWND 1776791 Rate 36435000\n",
    "# De exemplu la indexul 0 se afla timestamp-ul, iar la indexul 12 throughput-ul\n",
    "\n",
    "def plot_generic(axs, index_f1, index_f2, ylabel, xlabel, scale_y, num_cons, data_folder=\"tmp/t/\"):\n",
    "    for i in range(num_cons):\n",
    "        x1, y1 = [], []\n",
    "        # Citeste throughput-ul din fisierul aferent conexiunii i\n",
    "        with open(\"{}{}.dat\".format(data_folder, i)) as f:\n",
    "            for line in f:\n",
    "                values = line.split()\n",
    "                x1.append(float(values[index_f1]))\n",
    "                y1.append(float(values[index_f2]) * scale_y)\n",
    "        axs.plot(x1, y1, '-', label='Conn {}'.format(i))\n",
    "        axs.legend()\n",
    "    \n",
    "def plot_throughput(axs, num_cons):\n",
    "    axs.set_ylabel('Throughput (Mbps)')\n",
    "    axs.set_xlabel('Time (s)')\n",
    "    # Valorile din fisieri sunt in byes asa ca le inmultim cu 8/1000000 ca sa trecem in Mb/s\n",
    "    plot_generic(axs, 0, 12, 'Throughput', 'Time (s)', 8 / 1000000, num_cons)\n",
    "\n",
    "def plot_cwnd(axs, num_cons):\n",
    "    axs.set_ylabel('CWND (MSS)')\n",
    "    axs.set_xlabel('Time (s)')\n",
    "    plot_generic(axs, 0, 10, 'CWND (MSS)', 'Time (s)', 1/1500, num_cons)\n",
    "\n",
    "def plot_router_queue(axs, max_queue_size, data_folder=\"tmp/t/\"):\n",
    "    axs.set_ylabel('Packets in Queue (MSS) ')\n",
    "    axs.set_xlabel('Time (s)')\n",
    "    x1, y1 = [], []\n",
    "    with open(\"{}q.dat\".format(data_folder)) as f:\n",
    "        for line in f:\n",
    "            values = line.split()\n",
    "            x1.append(float(values[0]))\n",
    "            y1.append(float(values[12]) * 1/1500)\n",
    "        \n",
    "        axs.hlines(y=max_queue_size, xmin=0, xmax=x1[-1], linewidth=2, color='r')\n",
    "        axs.plot(x1, y1, '-')    "
   ]
  },
  {
   "cell_type": "markdown",
   "id": "eda82773-bd53-4bd6-b167-8a2eb84249d4",
   "metadata": {
    "tags": []
   },
   "source": [
    "### Masurarea performantei algoritmului de congestion control\n",
    "\n",
    "Urmatoarele celule compileaza si ruleaza simulatorul. Ulterior vom folosii functile definite in sectiunile precedente pentru a realiza graficele valorilor CWND, viteza de transmisie, fairness, coada de pachete din router etc. Acestea ne vor ajuta in a intelege performanta protocolului nostru."
   ]
  },
  {
   "cell_type": "code",
   "execution_count": null,
   "id": "af765fa3-375b-495c-8a6d-bf0bdcaae190",
   "metadata": {
    "tags": []
   },
   "outputs": [],
   "source": [
    "# Inainte de a rula o simulare, vom chema make\n",
    "!make -s\n",
    "\n",
    "# Rulam simulatorul (vezi main_dumbell_cc.cpp)\n",
    "# -cons numarul de conexiuni\n",
    "# -end (ms) timpul de rulare al experimentului\n",
    "# -latency (ms) latenta link-urilor\n",
    "# -q dimensiunea cozii in MSS\n",
    "# -startdelta (ms) de la ce timp sa porneasca o noua conexiune\n",
    "# -log (ms) intervalul la care se fac masuratori pentrum cwnd\n",
    "# -bandwidth (mbps) seteaza bandwidth-ul linkurilor\n",
    "num_cons = 3\n",
    "router_queue_size = 800\n",
    "# Rulam simulatorul din bash. ./scripts/parse.sh logout.dat parseaza rezultatele si le scrie in format human readable in folder-ul \n",
    "! ./htsim_dumbell_cc -conns {num_cons} -end 20000 -log 100 -q {router_queue_size} -latency 5 -startdelta 5000; ./scripts/parse.sh logout.dat tmp/t/"
   ]
  },
  {
   "cell_type": "code",
   "execution_count": null,
   "id": "9e70532f-61ce-4303-a873-bbfac4fa1407",
   "metadata": {
    "tags": []
   },
   "outputs": [],
   "source": [
    "# Deseneaza graficele pentru throughput is cwnd. Figsize poate fi modificat pentru a schimba dimensiunea figurilor.\n",
    "fig, axs = plt.subplots(ncols=2, figsize=(18, 8))\n",
    "\n",
    "plot_throughput(axs[0], num_cons)\n",
    "plot_cwnd(axs[1], num_cons)\n",
    "plt.show()"
   ]
  },
  {
   "cell_type": "code",
   "execution_count": null,
   "id": "f37510ee-7433-4629-97d3-eeb7ccac8b41",
   "metadata": {
    "tags": []
   },
   "outputs": [],
   "source": [
    "# Deseneaza dimensiunea cozii din router in MSS.\n",
    "fig, axs = plt.subplots(ncols=2, figsize=(18, 8))\n",
    "\n",
    "plot_router_queue(axs[0], router_queue_size)\n",
    "plt.show()"
   ]
  },
  {
   "cell_type": "markdown",
   "id": "95d9223b-2a98-4d05-85f7-7353cd9606e7",
   "metadata": {
    "tags": []
   },
   "source": [
    "## Masurarea performantei pentru clasamentul pe serie\n",
    "\n",
    "Pentru a face distinctia intre implementari, vom acorda un scor de performanta algoritmului. Scorul este impartit in 3 categorii:\n",
    "\n",
    "* thrghouput (300p)\n",
    "* fairness (300p)\n",
    "* latenta (300p)"
   ]
  },
  {
   "cell_type": "code",
   "execution_count": null,
   "id": "d190b696-cd22-410a-b276-4b7c4b031b13",
   "metadata": {
    "tags": []
   },
   "outputs": [],
   "source": [
    "# Functii helper folosite pentru a calcula valori precum average thrghouput\n",
    "import math\n",
    "\n",
    "# Calcuelaza average-ul dintr-o coloana dintr-un fisier .dat\n",
    "def avg_col(data_path, col, scale):\n",
    "        x1 = []\n",
    "        with open(data_path) as f:\n",
    "            for line in f:\n",
    "                values = line.split()\n",
    "                x1.append(float(values[col]) * scale)\n",
    "        return sum(x1)/(len(x1))\n",
    "\n",
    "# Afiseaza throughput-ul pentru o conexiune si traseazao linie orizontala la valoarea ideala.\n",
    "def plot_throughput2(axs, data_path, bandwidth):\n",
    "    axs.set_ylabel('Throughput (Mbps)')\n",
    "    axs.set_xlabel('Time (s)')\n",
    "    x1 = []\n",
    "    y1 = []\n",
    "    with open(data_path) as f:\n",
    "        for line in f:\n",
    "            values = line.split()\n",
    "            x1.append(float(values[0]))\n",
    "            y1.append(float(values[12]) * 8 / 1000000)\n",
    "            \n",
    "    axs.hlines(y=bandwidth, xmin=0, xmax=x1[-1], linewidth=2, color='r')\n",
    "    # Ca sa arata graficul mai bine, nu luam in considerare primele 4 tick-uri\n",
    "    axs.plot(x1[4:], y1[4:], '-')\n",
    "    \n",
    "# Afiseaza throughput-ul dintr-un anumit folder .dat\n",
    "def plot_throughput_from_data(axs, num_cons, data_folder):\n",
    "    axs.set_ylabel('Throughput (Mbps)')\n",
    "    axs.set_xlabel('Time (s)')\n",
    "    # Valorile din fisieri sunt in byes asa ca le inmultim cu 8/1000000 ca sa trecem in Mb/s\n",
    "    plot_generic(axs, 0, 12, 'Throughput', 'Time (s)', 8 / 1000000, num_cons, data_folder)"
   ]
  },
  {
   "cell_type": "markdown",
   "id": "236e12ef-4304-4a94-b209-8a5f7e6cc2d7",
   "metadata": {},
   "source": [
    "### Throughput (Viteza de transmisie)\n",
    "Ne intereseaza sa avem un averge thrghouput = BDP. Asta inseamna ca ar trebui sa ajungem \n"
   ]
  },
  {
   "cell_type": "code",
   "execution_count": null,
   "id": "ff54c262-0a44-4437-962b-0fd672a92f5a",
   "metadata": {
    "tags": []
   },
   "outputs": [],
   "source": [
    "# Urmatoarele trei verifica daca algoritmul de congestie foloseste banda intr-un mod optim\n",
    "\n",
    "# Vom masura rata de transmisie in diferite combinatii de throughput si latency. Coada de pachete din router are dimensiunea BDP-ului.\n",
    "MSS = 1500 # in bytes\n",
    "latency = [0.1, 1, 10] # ms\n",
    "bandwidth = [10, 100, 1000] # Mbs\n",
    "bdp = [ (i * j * 2 ) for i, j in zip(latency, bandwidth)]\n",
    "queue_size_in_mss = [ int(i * 1000000 / (1500 * 8)) for i in bdp]\n",
    "avg = []\n",
    "\n",
    "# Rulam pentru trei scenarii diferite\n",
    "for i in range(3):\n",
    "    data_folder = \"tmp/thr{}/\".format(i)\n",
    "    # Creeaza directorul in care vom salva rezultatele simularii\n",
    "    !mkdir -p {data_folder}\n",
    "    ! ./htsim_dumbell_cc -conns 1 -end 20000 -log 100 -q {queue_size_in_mss[i]} \\\n",
    "         -latency {latency[i]} -bandwidth {bandwidth[i]}; ./scripts/parse.sh logout.dat {data_folder}\n",
    "    avg.append(avg_col(\"tmp/thr{}/0.dat\".format(i), 12, 8 / 1000000))\n",
    "    print(\"\\n##### [RESULT] Average thrghouput {} vs {} expected\".format(avg[i], bandwidth[i]))\n",
    "\n",
    "# Calculeaza scorul pentru clasament. Acesta este media la cat am reusit sa acoperim din bandwidth in cele 3 scenarii.\n",
    "score_thrghouput = (avg[0]/bandwidth[0] + avg[1]/ bandwidth[1] + avg[2]/ bandwidth[2]) * 100\n",
    "print(\"+++++ Scorul pentru aceasta categorie: {} puncte\".format(score_thrghouput))\n",
    "\n",
    "# Deseneaza graficele thrghouput-ului. Linia orizontala rosie reprezinta valoarea asteptata.\n",
    "fig, axs = plt.subplots(ncols=3, figsize=(28, 8))\n",
    "for i in range(3):\n",
    "    plot_throughput2(axs[i], \"tmp/thr{}/0.dat\".format(i), bandwidth[i])\n",
    "plt.show()\n"
   ]
  },
  {
   "cell_type": "markdown",
   "id": "40334bc9-1d25-4bd8-be91-5ded159fdbc4",
   "metadata": {
    "tags": []
   },
   "source": [
    "## Fairness\n",
    "\n",
    "Vrem ca banda sa fie impartita corect intre mai multe conexiuni."
   ]
  },
  {
   "cell_type": "code",
   "execution_count": null,
   "id": "a7693875-d8e4-4cfa-af83-c13fb631c4a2",
   "metadata": {
    "tags": []
   },
   "outputs": [],
   "source": [
    "# Urmatorul experiment verifica daca algoritmul imparte in mod egal banda intre mai multe conexiuni.\n",
    "num_cons = [4, 8, 16]\n",
    "# In MSS\n",
    "router_queue_size = 800\n",
    "latency = [5, 2, 10]\n",
    "fairness = []\n",
    "\n",
    "# Rulam pentru trei scenarii diferite\n",
    "for i in range(3):\n",
    "    data_folder = \"tmp/fair{}/\".format(i)\n",
    "    !mkdir -p data_folder\n",
    "    # Ruleaza experimentul cu num_cons[i] conexiuni.\n",
    "    ! ./htsim_dumbell_cc -conns {num_cons[i]} -end 80000 -log 100 -q {router_queue_size} -latency {latency[i]} \\\n",
    "    -startdelta 500; ./scripts/parse.sh logout.dat {data_folder}\n",
    "    \n",
    "    # Calculeaza raportul dintre throughput-ul cel mai mic al uneia dintre conexiuni cu cel mai mare. Ideal acesta ar trebui sa fie 1 pentru ca bandwidth-ul se imparte egal intre toate conexiunile\n",
    "    avgs = []\n",
    "    for j in range(num_cons[i]):\n",
    "        # 8/10000000 pentru a trece in Mbps\n",
    "        avgs.append(avg_col(\"tmp/fair{}/{}.dat\".format(i, j), 12, 8 / 1000000))\n",
    "\n",
    "    fairness.append(min(avgs)/max(avgs))\n",
    "    print(\"\\n####### Min/Max average thrghouput: {}/{}\".format(min(avgs), max(avgs)))\n",
    "\n",
    "score_fairness = (fairness[0] + fairness[1] + fairness[2]) / 3 * 100 * 3\n",
    "print(\"+++++ Scorul pentru aceasta categorie: {} puncte\".format(score_fairness))\n",
    "\n",
    "# Deseneaza thoughput-ul pentru conexiuni. Din figsize putem schimba dimensiunea figurilor.\n",
    "fig, axs = plt.subplots(ncols=3, figsize=(26, 8))\n",
    "for i in range(3):\n",
    "    plot_throughput_from_data(axs[i], 4, \"tmp/fair{}/\".format(i))\n",
    "plt.show()"
   ]
  },
  {
   "cell_type": "markdown",
   "id": "22c7e904-6159-4e95-8677-fec482173974",
   "metadata": {
    "tags": []
   },
   "source": [
    "## Latenta\n"
   ]
  },
  {
   "cell_type": "markdown",
   "id": "531f57e2-d4c1-42f7-b8ec-35ec4b7208d7",
   "metadata": {},
   "source": [
    "Vom masura latenta in functie de cat de incarcata este coada din router. Astfel, punctajul este acordat in functie de gradul de umplere al cozii."
   ]
  },
  {
   "cell_type": "code",
   "execution_count": null,
   "id": "e024e51f-a503-4fdc-b0af-6565e534e566",
   "metadata": {
    "tags": []
   },
   "outputs": [],
   "source": [
    "# Acest experiment masoara latenta per pachet introdusa de algoritmul de congestion control. Cu cat avem o coada mai mare de pachete ce asteapta la router\n",
    "# cu atat latenta va creste.\n",
    "\n",
    "MSS = 1500 # in bytes\n",
    "latency = [1, 1, 1] # ms\n",
    "bandwidth = [10, 50, 100] # Mbs\n",
    "bdp = [ (i * j * 2 ) for i, j in zip(latency, bandwidth)]\n",
    "# Coada din router o sa aiba 10 BDP\n",
    "queue_size_in_mss = [ int(i * 1000000 / (MSS * 8)) * 10 for i in bdp]\n",
    "num_cons = [2, 4, 3]\n",
    "avgs = []\n",
    "\n",
    "# Rulam pentru trei scenarii diferite\n",
    "for i in range(3):\n",
    "    data_folder = \"tmp/lat{}/\".format(i)\n",
    "    !mkdir -p {data_folder}\n",
    "    ! ./htsim_dumbell_cc -conns {num_cons[i]} -end 60000 -log 100 -q {queue_size_in_mss[i]} -startdelta 200 \\\n",
    "        -latency {latency[i]} -bandwidth {bandwidth[i]}; ./scripts/parse.sh logout.dat {data_folder}\n",
    "    # Inmultim coloana 12 (numarul de bytes in buffer-ul routerului) cu1/1500 pentru ca vrem sa masuram in MSS (1500 de bytes)\n",
    "    avgs.append(avg_col(\"tmp/lat{}/q.dat\".format(i), 12, 1/1500))\n",
    "\n",
    "score_latency = 300 - (avgs[0] / queue_size_in_mss[0] * 100 + avgs[1] / queue_size_in_mss[1] * 100 + avgs[2] / queue_size_in_mss[2] * 100)\n",
    "print(\"\\n+++++ Scorul pentru aceasta categorie: {} puncte\".format(score_latency))\n",
    "\n",
    "# Deseneaza numarul de pachete in coada. Linia orizontala reprezinta dimensiunea maxima in MSS a cozii ruterului.\n",
    "fig, axs = plt.subplots(ncols=3, figsize=(26, 8))\n",
    "for i in range(3):\n",
    "    plot_router_queue(axs[i], queue_size_in_mss[i], \"tmp/lat{}/\".format(i))\n",
    "plt.show()"
   ]
  },
  {
   "cell_type": "markdown",
   "id": "99680b54-b7e2-4958-8419-316b230ef8cd",
   "metadata": {
    "tags": []
   },
   "source": [
    "# Evlauarea proiectului\n",
    "\n",
    "Coordonatorul de echipa va incarca arhiva rezultata in urma rularii `create_archive.sh` pe Moodle. Arhiva va include un fisier `team.secret` cu ID-ul secret pe care\n",
    "l-ati pus la inscriere si un writeup in format pdf. Nota finala la proiect va fi calculata la final in functie de pozitia in clasament si rezultatele la cele trei categorii."
   ]
  },
  {
   "cell_type": "code",
   "execution_count": null,
   "id": "9b14851e-017f-4a78-9b66-5c302a1d34f2",
   "metadata": {
    "tags": []
   },
   "outputs": [],
   "source": [
    "scor_total = score_thrghouput + score_fairness + score_latency\n",
    "print(\"Scor total {}/900\".format(scor_total))"
   ]
  },
  {
   "cell_type": "code",
   "execution_count": null,
   "id": "5352aa07-2b62-4340-a16b-76506b8cb93d",
   "metadata": {},
   "outputs": [],
   "source": []
  }
 ],
 "metadata": {
  "kernelspec": {
   "display_name": "Python 3 (ipykernel)",
   "language": "python",
   "name": "python3"
  },
  "language_info": {
   "codemirror_mode": {
    "name": "ipython",
    "version": 3
   },
   "file_extension": ".py",
   "mimetype": "text/x-python",
   "name": "python",
   "nbconvert_exporter": "python",
   "pygments_lexer": "ipython3",
   "version": "3.10.10"
  }
 },
 "nbformat": 4,
 "nbformat_minor": 5
}
